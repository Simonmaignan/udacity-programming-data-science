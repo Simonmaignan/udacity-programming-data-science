{
 "cells": [
  {
   "cell_type": "code",
   "execution_count": 34,
   "metadata": {},
   "outputs": [
    {
     "data": {
      "text/html": [
       "<div>\n",
       "<style scoped>\n",
       "    .dataframe tbody tr th:only-of-type {\n",
       "        vertical-align: middle;\n",
       "    }\n",
       "\n",
       "    .dataframe tbody tr th {\n",
       "        vertical-align: top;\n",
       "    }\n",
       "\n",
       "    .dataframe thead th {\n",
       "        text-align: right;\n",
       "    }\n",
       "</style>\n",
       "<table border=\"1\" class=\"dataframe\">\n",
       "  <thead>\n",
       "    <tr style=\"text-align: right;\">\n",
       "      <th></th>\n",
       "      <th>Start Time</th>\n",
       "      <th>End Time</th>\n",
       "      <th>Trip Duration</th>\n",
       "      <th>Start Station</th>\n",
       "      <th>End Station</th>\n",
       "      <th>User Type</th>\n",
       "      <th>Gender</th>\n",
       "      <th>Birth Year</th>\n",
       "    </tr>\n",
       "  </thead>\n",
       "  <tbody>\n",
       "    <tr>\n",
       "      <th>1423854</th>\n",
       "      <td>2017-06-23 15:09:32</td>\n",
       "      <td>2017-06-23 15:14:53</td>\n",
       "      <td>321</td>\n",
       "      <td>Wood St &amp; Hubbard St</td>\n",
       "      <td>Damen Ave &amp; Chicago Ave</td>\n",
       "      <td>Subscriber</td>\n",
       "      <td>Male</td>\n",
       "      <td>1992.0</td>\n",
       "    </tr>\n",
       "    <tr>\n",
       "      <th>955915</th>\n",
       "      <td>2017-05-25 18:19:03</td>\n",
       "      <td>2017-05-25 18:45:53</td>\n",
       "      <td>1610</td>\n",
       "      <td>Theater on the Lake</td>\n",
       "      <td>Sheffield Ave &amp; Waveland Ave</td>\n",
       "      <td>Subscriber</td>\n",
       "      <td>Female</td>\n",
       "      <td>1992.0</td>\n",
       "    </tr>\n",
       "    <tr>\n",
       "      <th>9031</th>\n",
       "      <td>2017-01-04 08:27:49</td>\n",
       "      <td>2017-01-04 08:34:45</td>\n",
       "      <td>416</td>\n",
       "      <td>May St &amp; Taylor St</td>\n",
       "      <td>Wood St &amp; Taylor St</td>\n",
       "      <td>Subscriber</td>\n",
       "      <td>Male</td>\n",
       "      <td>1981.0</td>\n",
       "    </tr>\n",
       "    <tr>\n",
       "      <th>304487</th>\n",
       "      <td>2017-03-06 13:49:38</td>\n",
       "      <td>2017-03-06 13:55:28</td>\n",
       "      <td>350</td>\n",
       "      <td>Christiana Ave &amp; Lawrence Ave</td>\n",
       "      <td>St. Louis Ave &amp; Balmoral Ave</td>\n",
       "      <td>Subscriber</td>\n",
       "      <td>Male</td>\n",
       "      <td>1986.0</td>\n",
       "    </tr>\n",
       "    <tr>\n",
       "      <th>45207</th>\n",
       "      <td>2017-01-17 14:53:07</td>\n",
       "      <td>2017-01-17 15:02:01</td>\n",
       "      <td>534</td>\n",
       "      <td>Clark St &amp; Randolph St</td>\n",
       "      <td>Desplaines St &amp; Jackson Blvd</td>\n",
       "      <td>Subscriber</td>\n",
       "      <td>Male</td>\n",
       "      <td>1975.0</td>\n",
       "    </tr>\n",
       "  </tbody>\n",
       "</table>\n",
       "</div>"
      ],
      "text/plain": [
       "                  Start Time             End Time  Trip Duration  \\\n",
       "1423854  2017-06-23 15:09:32  2017-06-23 15:14:53            321   \n",
       "955915   2017-05-25 18:19:03  2017-05-25 18:45:53           1610   \n",
       "9031     2017-01-04 08:27:49  2017-01-04 08:34:45            416   \n",
       "304487   2017-03-06 13:49:38  2017-03-06 13:55:28            350   \n",
       "45207    2017-01-17 14:53:07  2017-01-17 15:02:01            534   \n",
       "\n",
       "                         Start Station                   End Station  \\\n",
       "1423854           Wood St & Hubbard St       Damen Ave & Chicago Ave   \n",
       "955915             Theater on the Lake  Sheffield Ave & Waveland Ave   \n",
       "9031                May St & Taylor St           Wood St & Taylor St   \n",
       "304487   Christiana Ave & Lawrence Ave  St. Louis Ave & Balmoral Ave   \n",
       "45207           Clark St & Randolph St  Desplaines St & Jackson Blvd   \n",
       "\n",
       "          User Type  Gender  Birth Year  \n",
       "1423854  Subscriber    Male      1992.0  \n",
       "955915   Subscriber  Female      1992.0  \n",
       "9031     Subscriber    Male      1981.0  \n",
       "304487   Subscriber    Male      1986.0  \n",
       "45207    Subscriber    Male      1975.0  "
      ]
     },
     "execution_count": 34,
     "metadata": {},
     "output_type": "execute_result"
    }
   ],
   "source": [
    "import pandas as pd\n",
    "import datetime as dt\n",
    "\n",
    "df = pd.read_csv(\"datasets/chicago.csv\", index_col=0)\n",
    "df.head()"
   ]
  },
  {
   "cell_type": "code",
   "execution_count": 35,
   "metadata": {},
   "outputs": [
    {
     "data": {
      "text/plain": [
       "('Lake Shore Dr & Monroe St', 'Streeter Dr & Grand Ave')"
      ]
     },
     "execution_count": 35,
     "metadata": {},
     "output_type": "execute_result"
    }
   ],
   "source": [
    "df1 = df.groupby([\"Start Station\", \"End Station\"]).size().sort_values(ascending=False)\n",
    "df1.index[0]"
   ]
  },
  {
   "cell_type": "code",
   "execution_count": 36,
   "metadata": {},
   "outputs": [
    {
     "name": "stdout",
     "output_type": "stream",
     "text": [
      "280871787\n"
     ]
    }
   ],
   "source": [
    "print(df[\"Trip Duration\"].sum())"
   ]
  },
  {
   "cell_type": "code",
   "execution_count": 37,
   "metadata": {},
   "outputs": [
    {
     "name": "stdout",
     "output_type": "stream",
     "text": [
      "936.2\n"
     ]
    }
   ],
   "source": [
    "print(f\"{df[\"Trip Duration\"].mean():.1f}\")\n"
   ]
  },
  {
   "cell_type": "code",
   "execution_count": 40,
   "metadata": {},
   "outputs": [
    {
     "name": "stdout",
     "output_type": "stream",
     "text": [
      "The total travel time is 8 years, 330 days, 19 hours, 56 minutes and 27 seconds (or a total of 280871787 seconds)\n"
     ]
    }
   ],
   "source": [
    "total_travel_time_seconds: int = int(df[\"Trip Duration\"].sum())\n",
    "travel_time_seconds: int = total_travel_time_seconds % 60\n",
    "travel_time_minutes: int = total_travel_time_seconds // 60\n",
    "travel_time_hours: int = travel_time_minutes // 60\n",
    "travel_time_minutes %= 60\n",
    "travel_time_days: int = travel_time_hours // 24\n",
    "travel_time_hours %= 24\n",
    "travel_time_years: int = travel_time_days // 365\n",
    "travel_time_days %= 365\n",
    "print(f\"The total travel time is {travel_time_years} years, {travel_time_days} days, {travel_time_hours} hours, {travel_time_minutes} minutes and {travel_time_seconds} seconds (or a total of {total_travel_time_seconds} seconds).\")\n"
   ]
  },
  {
   "cell_type": "code",
   "execution_count": 46,
   "metadata": {},
   "outputs": [
    {
     "name": "stdout",
     "output_type": "stream",
     "text": [
      "The total travel time is 8 years, 330 days, 19 hours, 56 minutes and 27 seconds (or a total of 280871787 seconds).\n"
     ]
    }
   ],
   "source": [
    "total_travel_time_delta = dt.timedelta(seconds=total_travel_time_seconds)\n",
    "total_years: int = total_travel_time_delta.days // 365\n",
    "total_days: int = total_travel_time_delta.days % 365\n",
    "total_hours: int = total_travel_time_delta.seconds // 3600\n",
    "total_minutes: int = total_travel_time_delta.seconds // 60 % 60\n",
    "total_seconds: int = total_travel_time_delta.seconds % 60\n",
    "print(f\"The total travel time is {total_years} years, {total_days} days, {total_hours} hours, {total_minutes} minutes and {total_seconds} seconds (or a total of {total_travel_time_seconds} seconds).\")\n",
    "# print(f\"The total travel time is {} (or a total of {total_travel_time_seconds} seconds)\")"
   ]
  },
  {
   "cell_type": "code",
   "execution_count": null,
   "metadata": {},
   "outputs": [],
   "source": []
  }
 ],
 "metadata": {
  "kernelspec": {
   "display_name": "data_analysis",
   "language": "python",
   "name": "python3"
  },
  "language_info": {
   "codemirror_mode": {
    "name": "ipython",
    "version": 3
   },
   "file_extension": ".py",
   "mimetype": "text/x-python",
   "name": "python",
   "nbconvert_exporter": "python",
   "pygments_lexer": "ipython3",
   "version": "3.12.5"
  }
 },
 "nbformat": 4,
 "nbformat_minor": 2
}
